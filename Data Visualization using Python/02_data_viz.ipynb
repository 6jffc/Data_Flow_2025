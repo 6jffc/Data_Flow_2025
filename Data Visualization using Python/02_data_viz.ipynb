{
 "cells": [
  {
   "cell_type": "code",
   "execution_count": null,
   "metadata": {
    "id": "sFCcwba2gWI0"
   },
   "outputs": [],
   "source": [
    "from bokeh.plotting import figure, show\n",
    "from bokeh.io import output_notebook\n",
    "\n",
    "# To display output in notebook\n",
    "output_notebook()"
   ]
  },
  {
   "cell_type": "code",
   "execution_count": null,
   "metadata": {
    "id": "WTOvA5CXg-CX"
   },
   "outputs": [],
   "source": [
    "# prepare some data\n",
    "x = [1, 2, 3, 4, 5]\n",
    "\n",
    "y1 = [6, 7, 3, 4, 5]\n",
    "y2 = [2, 3, 4, 5, 6]\n",
    "y3 = [4, 5, 5, 7, 2]"
   ]
  },
  {
   "cell_type": "markdown",
   "metadata": {},
   "source": [
    "## Basic Tools"
   ]
  },
  {
   "cell_type": "code",
   "execution_count": null,
   "metadata": {
    "colab": {
     "base_uri": "https://localhost:8080/",
     "height": 617
    },
    "id": "7nRtjwhrhAND",
    "outputId": "e0197ded-0e47-4cf2-f936-14cb7c1d9888"
   },
   "outputs": [],
   "source": [
    "# Create a new plot with a title and axis labels\n",
    "p = figure(title=\"Simple Plot\", \n",
    "           x_axis_label=\"x\", \n",
    "           y_axis_label=\"y\")\n",
    "\n",
    "# Add renderer\n",
    "p.line(x, \n",
    "       y1, \n",
    "       legend_label=\"Temp.\", \n",
    "       line_color=\"red\", \n",
    "       line_width=5)"
   ]
  },
  {
   "cell_type": "code",
   "execution_count": null,
   "metadata": {},
   "outputs": [],
   "source": [
    "show(p)"
   ]
  },
  {
   "cell_type": "code",
   "execution_count": null,
   "metadata": {
    "colab": {
     "base_uri": "https://localhost:8080/",
     "height": 617
    },
    "id": "UXpwp0TKhOxD",
    "outputId": "2004b110-6641-4528-a23c-5248a227166c"
   },
   "outputs": [],
   "source": [
    "p = figure(title=\"Multiple Renderers\", x_axis_label=\"x\", y_axis_label=\"y\")\n",
    "\n",
    "# Add multiple renderers\n",
    "p.line(x, \n",
    "       y1, \n",
    "       legend_label=\"Temp.\", \n",
    "       line_color=\"blue\", \n",
    "       line_width=2)\n",
    "p.vbar(x=x, \n",
    "       top=y2, \n",
    "       legend_label=\"Rate\", \n",
    "       width=0.5, \n",
    "       bottom=0, \n",
    "       color=\"maroon\", \n",
    "       alpha=0.2)\n",
    "\n",
    "p.circle(x, \n",
    "         y3, \n",
    "         legend_label=\"Objects\", \n",
    "         line_color=\"white\", \n",
    "         size=20)\n",
    "\n",
    "show(p)"
   ]
  },
  {
   "cell_type": "markdown",
   "metadata": {},
   "source": [
    "## Hover Tool"
   ]
  },
  {
   "cell_type": "code",
   "execution_count": null,
   "metadata": {
    "colab": {
     "base_uri": "https://localhost:8080/",
     "height": 417
    },
    "id": "Ygh5M7cBkBA_",
    "outputId": "2f3c22ad-353b-42f9-ea93-1a5d53f0d34b"
   },
   "outputs": [],
   "source": [
    "from bokeh.plotting import ColumnDataSource\n",
    "\n",
    "source = ColumnDataSource(data=dict(\n",
    "    x=[1, 2, 3, 4, 5],\n",
    "    y=[2, 5, 8, 2, 7],\n",
    "    desc=['A', 'b', 'C', 'd', 'E'],\n",
    "))\n",
    "\n",
    "TOOLTIPS = [\n",
    "    (\"index\", \"$index\"),\n",
    "    (\"(x,y)\", \"($x, $y)\"),\n",
    "    (\"desc\", \"@desc\"),\n",
    "]\n",
    "\n",
    "p = figure(plot_width=400, \n",
    "           plot_height=400, \n",
    "           tooltips=TOOLTIPS,\n",
    "           title=\"Mouse over the dots\")\n",
    "\n",
    "p.circle('x', \n",
    "         'y', \n",
    "         size=20, \n",
    "         source=source)\n",
    "\n",
    "show(p)"
   ]
  },
  {
   "cell_type": "code",
   "execution_count": null,
   "metadata": {
    "colab": {
     "base_uri": "https://localhost:8080/",
     "height": 305
    },
    "id": "bzzRKKIfrV_1",
    "outputId": "0614e062-f699-49ab-c627-866a90b1b3d2"
   },
   "outputs": [],
   "source": [
    "import numpy as np\n",
    "import pandas as pd\n",
    "\n",
    "from bokeh.models import HoverTool\n",
    "from bokeh.sampledata.stocks import AAPL\n",
    "\n",
    "def datetime(x):\n",
    "    return np.array(x, dtype=np.datetime64)\n",
    "\n",
    "source = ColumnDataSource(data={\n",
    "    'date'      : datetime(AAPL['date'][::10]),\n",
    "    'adj close' : AAPL['adj_close'][::10],\n",
    "    'volume'    : AAPL['volume'][::10],\n",
    "})\n",
    "\n",
    "p = figure(plot_height=250, x_axis_type=\"datetime\", tools=\"\", toolbar_location=None,\n",
    "           title=\"Hover Tooltip Formatting\", sizing_mode=\"scale_width\")\n",
    "\n",
    "# Figure Styling\n",
    "p.background_fill_color=\"#f5f5f5\"\n",
    "p.grid.grid_line_color=\"white\"\n",
    "p.xaxis.axis_label = 'Date'\n",
    "p.yaxis.axis_label = 'Price'\n",
    "p.axis.axis_line_color = None\n",
    "\n",
    "p.line(x='date', \n",
    "       y='adj close', \n",
    "       line_width=2, \n",
    "       color='#ebbd5b', \n",
    "       source=source)\n",
    "\n",
    "p.add_tools(HoverTool(\n",
    "    tooltips=[\n",
    "        ( 'date',   '@date{%F}'            ),\n",
    "        ( 'close',  '$@{adj close}{%0.2f}' ), # use @{ } for field names with spaces\n",
    "        ( 'volume', '@volume{0.00 a}'      ),\n",
    "    ],\n",
    "    # display a tooltip whenever the cursor is vertically in line with a glyph\n",
    "    mode='vline'\n",
    "))\n",
    "\n",
    "p.hover.formatters = {\n",
    "        '@date'      : 'datetime', # use 'datetime' formatter for 'date' field\n",
    "        '@{adj close}' : 'printf',   # use 'printf' formatter for 'adj close' field\n",
    "                                  # use default 'numeral' formatter for other fields\n",
    "    }\n",
    "\n",
    "show(p)"
   ]
  },
  {
   "cell_type": "markdown",
   "metadata": {
    "id": "hszV5HqPkvIr"
   },
   "source": [
    "## Linked Panning"
   ]
  },
  {
   "cell_type": "code",
   "execution_count": null,
   "metadata": {
    "colab": {
     "base_uri": "https://localhost:8080/",
     "height": 287
    },
    "id": "8Lcivnxhkut0",
    "outputId": "86f4ea6a-c8b1-4c08-e4b2-6a6867898963"
   },
   "outputs": [],
   "source": [
    "from bokeh.layouts import gridplot\n",
    "\n",
    "\n",
    "x = list(range(11))\n",
    "y0 = x\n",
    "y1 = [10-xx for xx in x]\n",
    "y2 = [abs(xx-5) for xx in x]\n",
    "\n",
    "# create a new plot\n",
    "s1 = figure(plot_width=250, plot_height=250, title=None)\n",
    "s1.circle(x, y0, size=10, color=\"navy\", alpha=0.5)\n",
    "\n",
    "# create a new plot and share both ranges\n",
    "s2 = figure(plot_width=250, plot_height=250, x_range=s1.x_range, y_range=s1.y_range, title=None)\n",
    "s2.triangle(x, y1, size=10, color=\"firebrick\", alpha=0.5)\n",
    "\n",
    "# create a new plot and share only one range\n",
    "s3 = figure(plot_width=250, plot_height=250, x_range=s1.x_range, title=None)\n",
    "s3.square(x, y2, size=10, color=\"olive\", alpha=0.5)\n",
    "\n",
    "p = gridplot([[s1, s2, s3]], toolbar_location=None)\n",
    "\n",
    "# show the results\n",
    "show(p)"
   ]
  },
  {
   "cell_type": "markdown",
   "metadata": {
    "id": "mOZX_z1BlDyZ"
   },
   "source": [
    "## Linked Brushing"
   ]
  },
  {
   "cell_type": "code",
   "execution_count": null,
   "metadata": {
    "colab": {
     "base_uri": "https://localhost:8080/",
     "height": 347
    },
    "id": "LBlUWAIGlFsO",
    "outputId": "03b5a719-d21d-43fe-f990-4b4353ce9b95"
   },
   "outputs": [],
   "source": [
    "x = list(range(-20, 21))\n",
    "y0 = [abs(xx) for xx in x]\n",
    "y1 = [xx**2 for xx in x]\n",
    "\n",
    "# create a column data source for the plots to share\n",
    "source = ColumnDataSource(data=dict(x=x, y0=y0, y1=y1))\n",
    "\n",
    "TOOLS = \"box_select,lasso_select,help\"\n",
    "\n",
    "# create a new plot and add a renderer\n",
    "left = figure(tools=TOOLS, plot_width=300, plot_height=300, title=None)\n",
    "left.circle('x', 'y0', source=source)\n",
    "\n",
    "# create another new plot and add a renderer\n",
    "right = figure(tools=TOOLS, plot_width=300, plot_height=300, title=None)\n",
    "right.circle('x', 'y1', source=source)\n",
    "\n",
    "p = gridplot([[left, right]])\n",
    "\n",
    "show(p)"
   ]
  },
  {
   "cell_type": "markdown",
   "metadata": {
    "id": "TPgIahUrllt1"
   },
   "source": [
    "## Linked properties"
   ]
  },
  {
   "cell_type": "code",
   "execution_count": null,
   "metadata": {
    "colab": {
     "base_uri": "https://localhost:8080/",
     "height": 466
    },
    "id": "_ygISZnzloSt",
    "outputId": "8d862c58-e934-4d29-b62b-f78bc594624e"
   },
   "outputs": [],
   "source": [
    "from bokeh.models import Slider\n",
    "from bokeh.layouts import column\n",
    "\n",
    "plot = figure(plot_width=400, plot_height=400)\n",
    "r = plot.circle([1,2,3,4,5,], [3,2,5,6,4], radius=0.2, alpha=0.5)\n",
    "s = plot.square([1,2,3,4,5,], [3,2,5,6,4], alpha=0.5, size=2)\n",
    "\n",
    "# slider = Slider(start=0.1, end=2, step=0.01, value=0.2)\n",
    "# slider.js_link('value', r.glyph, 'radius')\n",
    "\n",
    "slider = Slider(start=1, end=20, step=1, value=2)\n",
    "slider.js_link('value', s.glyph, 'size')\n",
    "\n",
    "show(column(plot, slider))"
   ]
  },
  {
   "cell_type": "markdown",
   "metadata": {
    "id": "d7Mc09OcmeqM"
   },
   "source": [
    "## Interactive Legends - Hide"
   ]
  },
  {
   "cell_type": "code",
   "execution_count": null,
   "metadata": {
    "colab": {
     "base_uri": "https://localhost:8080/",
     "height": 287
    },
    "id": "ME4x7bXFmgDz",
    "outputId": "d29d20e4-df6f-4491-ebad-24a0737e728d"
   },
   "outputs": [],
   "source": [
    "import pandas as pd\n",
    "\n",
    "from bokeh.palettes import Spectral4\n",
    "from bokeh.sampledata.stocks import AAPL, GOOG, IBM, MSFT\n",
    "\n",
    "p = figure(plot_width=800, \n",
    "           plot_height=250, \n",
    "           x_axis_type=\"datetime\")\n",
    "\n",
    "p.title.text = 'Interactive Legend - Hide'\n",
    "\n",
    "for data, name, color in zip([AAPL, IBM, MSFT, GOOG], [\"AAPL\", \"IBM\", \"MSFT\", \"GOOG\"], Spectral4):\n",
    "    df = pd.DataFrame(data)\n",
    "    df['date'] = pd.to_datetime(df['date'])\n",
    "    p.line(df['date'], \n",
    "           df['close'], \n",
    "           line_width=2, \n",
    "           color=color, \n",
    "           alpha=0.8, \n",
    "           legend_label=name)\n",
    "\n",
    "p.legend.location = \"top_left\"\n",
    "p.legend.click_policy=\"hide\"\n",
    "\n",
    "show(p)"
   ]
  },
  {
   "cell_type": "markdown",
   "metadata": {
    "id": "QlOY2YIlrm6e"
   },
   "source": [
    "## Interactive Legends - Mute"
   ]
  },
  {
   "cell_type": "code",
   "execution_count": null,
   "metadata": {
    "colab": {
     "base_uri": "https://localhost:8080/",
     "height": 287
    },
    "id": "cOYCg664nMO3",
    "outputId": "8de4b704-f95c-4f18-d5dd-a541fab9b094"
   },
   "outputs": [],
   "source": [
    "p = figure(plot_width=800, \n",
    "           plot_height=250, \n",
    "           x_axis_type=\"datetime\")\n",
    "\n",
    "p.title.text = 'Interactive Legend - Mute'\n",
    "\n",
    "for data, name, color in zip([AAPL, IBM, MSFT, GOOG], [\"AAPL\", \"IBM\", \"MSFT\", \"GOOG\"], Spectral4):\n",
    "    df = pd.DataFrame(data)\n",
    "    df['date'] = pd.to_datetime(df['date'])\n",
    "    p.line(df['date'], \n",
    "           df['close'], \n",
    "           line_width=2, \n",
    "           color=color, \n",
    "           alpha=0.8,\n",
    "           muted_color=color, \n",
    "           muted_alpha=0.2, \n",
    "           legend_label=name)\n",
    "\n",
    "p.legend.location = \"top_left\"\n",
    "p.legend.click_policy=\"mute\"\n",
    "\n",
    "show(p)"
   ]
  },
  {
   "cell_type": "markdown",
   "metadata": {},
   "source": [
    "## Widgets"
   ]
  },
  {
   "cell_type": "code",
   "execution_count": null,
   "metadata": {
    "colab": {
     "base_uri": "https://localhost:8080/",
     "height": 58
    },
    "id": "XcMmCpBrp7o9",
    "outputId": "4053f95b-fe17-4481-a943-d6b2e3b383aa"
   },
   "outputs": [],
   "source": [
    "from bokeh.models import Button, CustomJS\n",
    "\n",
    "button = Button(label=\"Foo\", button_type=\"success\")\n",
    "button.js_on_click(CustomJS(code=\"console.log('button: click!', this.toString())\"))\n",
    "\n",
    "show(button)"
   ]
  },
  {
   "cell_type": "code",
   "execution_count": null,
   "metadata": {
    "colab": {
     "base_uri": "https://localhost:8080/",
     "height": 83
    },
    "id": "K3qFm_moqXMU",
    "outputId": "56995bec-7f0b-4c3d-8801-cc74d574b826"
   },
   "outputs": [],
   "source": [
    "from bokeh.io import show\n",
    "from bokeh.models import CheckboxGroup, CustomJS\n",
    "\n",
    "LABELS = [\"Option 1\", \"Option 2\", \"Option 3\"]\n",
    "\n",
    "checkbox_group = CheckboxGroup(labels=LABELS, active=[0, 1])\n",
    "checkbox_group.js_on_click(CustomJS(code=\"\"\"\n",
    "    console.log('checkbox_group: active=' + this.active, this.toString())\n",
    "\"\"\"))\n",
    "\n",
    "show(checkbox_group)"
   ]
  },
  {
   "cell_type": "code",
   "execution_count": null,
   "metadata": {
    "colab": {
     "base_uri": "https://localhost:8080/",
     "height": 427
    },
    "id": "oqgX3AfUqbg7",
    "outputId": "18f9da49-af4b-400a-f8d5-383ca8e2d236"
   },
   "outputs": [],
   "source": [
    "from bokeh.layouts import column\n",
    "from bokeh.models import ColorPicker\n",
    "from bokeh.plotting import Figure\n",
    "\n",
    "plot = Figure(x_range=(0, 1), y_range=(0, 1), plot_width=350, plot_height=350)\n",
    "line = plot.line(x=(0,1), y=(0,1), color=\"black\", line_width=4)\n",
    "\n",
    "picker = ColorPicker(title=\"Line Color\")\n",
    "picker.js_link('color', line.glyph, 'line_color')\n",
    "\n",
    "show(column(plot, picker))"
   ]
  },
  {
   "cell_type": "code",
   "execution_count": null,
   "metadata": {
    "colab": {
     "base_uri": "https://localhost:8080/",
     "height": 307
    },
    "id": "0YBZltp6qie4",
    "outputId": "32d82b03-c0d7-4dae-cf92-9b1ab872b1b8"
   },
   "outputs": [],
   "source": [
    "from datetime import date\n",
    "from random import randint\n",
    "\n",
    "from bokeh.io import show\n",
    "from bokeh.models import ColumnDataSource, DataTable, DateFormatter, TableColumn\n",
    "\n",
    "data = dict(\n",
    "        dates=[date(2014, 3, i+1) for i in range(10)],\n",
    "        downloads=[randint(0, 100) for i in range(10)],\n",
    "    )\n",
    "source = ColumnDataSource(data)\n",
    "\n",
    "columns = [\n",
    "        TableColumn(field=\"dates\", title=\"Date\", formatter=DateFormatter()),\n",
    "        TableColumn(field=\"downloads\", title=\"Downloads\"),\n",
    "    ]\n",
    "data_table = DataTable(source=source, columns=columns, width=400, height=280)\n",
    "\n",
    "show(data_table)"
   ]
  },
  {
   "cell_type": "code",
   "execution_count": null,
   "metadata": {
    "colab": {
     "base_uri": "https://localhost:8080/",
     "height": 66
    },
    "id": "uZfkpXk_qmXE",
    "outputId": "e86a2ed5-526c-489c-af11-e869cb4f12fd"
   },
   "outputs": [],
   "source": [
    "from datetime import date\n",
    "from bokeh.models import CustomJS, DateRangeSlider\n",
    "\n",
    "date_range_slider = DateRangeSlider(value=(date(2016, 1, 1), date(2016, 12, 31)),\n",
    "                                    start=date(2015, 1, 1), end=date(2017, 12, 31))\n",
    "date_range_slider.js_on_change(\"value\", CustomJS(code=\"\"\"\n",
    "    console.log('date_range_slider: value=' + this.value, this.toString())\n",
    "\"\"\"))\n",
    "\n",
    "show(date_range_slider)"
   ]
  },
  {
   "cell_type": "code",
   "execution_count": null,
   "metadata": {
    "colab": {
     "base_uri": "https://localhost:8080/",
     "height": 138
    },
    "id": "AU4BPig-qpK7",
    "outputId": "1e5db459-e8da-471f-d894-3a63d27543c6"
   },
   "outputs": [],
   "source": [
    "from bokeh.models import Div\n",
    "\n",
    "div = Div(text=\"\"\"Your <a href=\"https://en.wikipedia.org/wiki/HTML\">HTML</a>-supported text is initialized with the <b>text</b> argument.  The\n",
    "remaining div arguments are <b>width</b> and <b>height</b>. For this example, those values\n",
    "are <i>200</i> and <i>100</i>, respectively.\"\"\",\n",
    "width=200, height=100)\n",
    "\n",
    "show(div)"
   ]
  },
  {
   "cell_type": "code",
   "execution_count": null,
   "metadata": {
    "colab": {
     "base_uri": "https://localhost:8080/",
     "height": 58
    },
    "id": "772aI3K7qvUT",
    "outputId": "b539db5a-0ab9-46bc-d7d0-eee55283cda5",
    "scrolled": true
   },
   "outputs": [],
   "source": [
    "from bokeh.io import show\n",
    "from bokeh.models import CustomJS, Dropdown\n",
    "\n",
    "menu = [(\"Item 1\", \"item_1\"), (\"Item 2\", \"item_2\"), None, (\"Item 3\", \"item_3\")]\n",
    "\n",
    "dropdown = Dropdown(label=\"Dropdown button\", button_type=\"warning\", menu=menu)\n",
    "dropdown.js_on_event(\"menu_item_click\", CustomJS(code=\"console.log('dropdown: ' + this.item, this.toString())\"))\n",
    "\n",
    "show(dropdown)"
   ]
  },
  {
   "cell_type": "code",
   "execution_count": null,
   "metadata": {
    "colab": {
     "base_uri": "https://localhost:8080/",
     "height": 58
    },
    "id": "UzDFPMbrqy4H",
    "outputId": "094e89ee-6519-4551-84dd-0ee2fd4a6894"
   },
   "outputs": [],
   "source": [
    "from bokeh.io import show\n",
    "from bokeh.models import CustomJS, RadioButtonGroup\n",
    "\n",
    "LABELS = [\"Option 1\", \"Option 2\", \"Option 3\"]\n",
    "\n",
    "radio_button_group = RadioButtonGroup(labels=LABELS, active=0)\n",
    "radio_button_group.js_on_click(CustomJS(code=\"\"\"\n",
    "    console.log('radio_button_group: active=' + this.active, this.toString())\n",
    "\"\"\"))\n",
    "\n",
    "show(radio_button_group)"
   ]
  },
  {
   "cell_type": "code",
   "execution_count": null,
   "metadata": {
    "colab": {
     "base_uri": "https://localhost:8080/",
     "height": 83
    },
    "id": "rs4H68ZSq2Xy",
    "outputId": "70a1ed25-07ca-498c-e6fc-75ddff6c496e"
   },
   "outputs": [],
   "source": [
    "from bokeh.io import show\n",
    "from bokeh.models import CustomJS, RadioGroup\n",
    "\n",
    "LABELS = [\"Option 1\", \"Option 2\", \"Option 3\"]\n",
    "\n",
    "radio_group = RadioGroup(labels=LABELS, active=0)\n",
    "radio_group.js_on_click(CustomJS(code=\"\"\"\n",
    "    console.log('radio_group: active=' + this.active, this.toString())\n",
    "\"\"\"))\n",
    "\n",
    "show(radio_group)"
   ]
  },
  {
   "cell_type": "code",
   "execution_count": null,
   "metadata": {
    "colab": {
     "base_uri": "https://localhost:8080/",
     "height": 66
    },
    "id": "Sh_FVROMq8tn",
    "outputId": "646057cd-2204-4918-d5bb-cb01d7c1fc4b"
   },
   "outputs": [],
   "source": [
    "from bokeh.io import show\n",
    "from bokeh.models import CustomJS, RangeSlider\n",
    "\n",
    "range_slider = RangeSlider(start=0, end=10, value=(1,9), step=.1, title=\"Stuff\")\n",
    "range_slider.js_on_change(\"value\", CustomJS(code=\"\"\"\n",
    "    console.log('range_slider: value=' + this.value, this.toString())\n",
    "\"\"\"))\n",
    "\n",
    "show(range_slider)"
   ]
  },
  {
   "cell_type": "code",
   "execution_count": null,
   "metadata": {
    "colab": {
     "base_uri": "https://localhost:8080/",
     "height": 77
    },
    "id": "uEr_YjX4q_Bz",
    "outputId": "2ce67c18-17e9-4e2f-a64a-ca0af6d3faeb"
   },
   "outputs": [],
   "source": [
    "from bokeh.io import show\n",
    "from bokeh.models import CustomJS, Select\n",
    "\n",
    "select = Select(title=\"Option:\", value=\"foo\", options=[\"foo\", \"bar\", \"baz\", \"quux\"])\n",
    "select.js_on_change(\"value\", CustomJS(code=\"\"\"\n",
    "    console.log('select: value=' + this.value, this.toString())\n",
    "\"\"\"))\n",
    "\n",
    "show(select)"
   ]
  },
  {
   "cell_type": "code",
   "execution_count": null,
   "metadata": {},
   "outputs": [],
   "source": [
    "from bokeh.models import Panel, Tabs\n",
    "from bokeh.plotting import figure\n",
    "\n",
    "p1 = figure(plot_width=300, plot_height=300)\n",
    "p1.circle([1, 2, 3, 4, 5], [6, 7, 2, 4, 5], size=20, color=\"maroon\", alpha=0.5)\n",
    "tab1 = Panel(child=p1, title=\"Scatter\")\n",
    "\n",
    "p2 = figure(plot_width=300, plot_height=300)\n",
    "p2.line([1, 2, 3, 4, 5], [6, 7, 2, 4, 5], line_width=3, color=\"navy\", alpha=0.5)\n",
    "tab2 = Panel(child=p2, title=\"Line\")\n",
    "\n",
    "show(Tabs(tabs=[tab2, tab1]))"
   ]
  },
  {
   "cell_type": "code",
   "execution_count": null,
   "metadata": {
    "colab": {
     "base_uri": "https://localhost:8080/",
     "height": 376
    },
    "id": "TiO-R_crsAYg",
    "outputId": "a14a7768-b772-4d94-ab6e-2d481feba64b"
   },
   "outputs": [],
   "source": [
    "from bokeh.layouts import layout\n",
    "from bokeh.models import Div, RangeSlider, Spinner\n",
    "from bokeh.plotting import figure, show\n",
    "\n",
    "# prepare some data\n",
    "x = [1, 2, 3, 4, 5, 6, 7, 8, 9, 10]\n",
    "y = [4, 5, 5, 7, 2, 6, 4, 9, 1, 3]\n",
    "\n",
    "# create plot with circle glyphs\n",
    "p = figure(x_range=(1, 9), plot_width=500, plot_height=250)\n",
    "points = p.circle(x=x, y=y, size=30, fill_color=\"#21a7df\")\n",
    "\n",
    "# set up textarea (div)\n",
    "div = Div(\n",
    "    text=\"\"\"\n",
    "          <p>Select the circle's size using this control element:</p>\n",
    "          \"\"\",\n",
    "    width=200,\n",
    "    height=30,\n",
    ")\n",
    "\n",
    "# set up spinner\n",
    "spinner = Spinner(\n",
    "    title=\"Circle size\",\n",
    "    low=0,\n",
    "    high=60,\n",
    "    step=5,\n",
    "    value=points.glyph.size,\n",
    "    width=200,\n",
    ")\n",
    "spinner.js_link(\"value\", points.glyph, \"size\")\n",
    "\n",
    "# set up RangeSlider\n",
    "range_slider = RangeSlider(\n",
    "    title=\"Adjust x-axis range\",\n",
    "    start=0,\n",
    "    end=10,\n",
    "    step=1,\n",
    "    value=(p.x_range.start, p.x_range.end),\n",
    ")\n",
    "range_slider.js_link(\"value\", p.x_range, \"start\", attr_selector=0)\n",
    "range_slider.js_link(\"value\", p.x_range, \"end\", attr_selector=1)\n",
    "\n",
    "# create layout\n",
    "layout = layout(\n",
    "    [[p],\n",
    "        [div],\n",
    "        [spinner],\n",
    "        [range_slider],\n",
    "    ]\n",
    ")\n",
    "\n",
    "# show result\n",
    "show(layout)"
   ]
  },
  {
   "cell_type": "code",
   "execution_count": null,
   "metadata": {
    "colab": {
     "base_uri": "https://localhost:8080/"
    },
    "id": "ZC02RrD7shzQ",
    "outputId": "d7cd1c81-d704-4461-aee2-4febf1516575"
   },
   "outputs": [],
   "source": [
    "import bokeh.plotting.figure as bk_figure\n",
    "from bokeh.io import curdoc\n",
    "from bokeh.layouts import row, column\n",
    "from bokeh.models import ColumnDataSource\n",
    "from bokeh.models.widgets import TextInput\n",
    "\n",
    "from bokeh.application import Application\n",
    "from bokeh.application.handlers import FunctionHandler\n",
    "\n",
    "\n",
    "# Set up data\n",
    "N = 200\n",
    "x = np.linspace(0, 4*np.pi, N)\n",
    "y = np.sin(x)\n",
    "source = ColumnDataSource(data=dict(x=x, y=y))\n",
    "\n",
    "# Set up plot\n",
    "plot = bk_figure(plot_height=400, \n",
    "                 plot_width=400, \n",
    "                 title=\"Old Title\",\n",
    "                 tools= \"crosshair, pan, reset, save, wheel_zoom\",\n",
    "                 x_range=[0, 4*np.pi], y_range=[-2.5, 2.5])\n",
    "\n",
    "plot.line('x', 'y', source=source, line_width=3, line_alpha=0.6)\n",
    "\n",
    "# Set up widgets\n",
    "text = TextInput(title=\"Title\", value='Old Title')\n",
    "\n",
    "offset = Slider(title=\"Offset\", value=0.0, start=-5.0, end=5.0, step=0.1)\n",
    "\n",
    "amplitude = Slider(title=\"Amplitude\", value=1.0, start=-5.0, end=5.0, step=0.1)\n",
    "\n",
    "phase = Slider(title=\"Phase\", value=0.0, start=0.0, end=2*np.pi)\n",
    "\n",
    "freq = Slider(title=\"Frequency\", value=1.0, start=0.1, end=5.1, step=0.1)\n",
    "\n",
    "\n",
    "# Set up callbacks\n",
    "def update_title(attrname, old, new):\n",
    "    plot.title.text = text.value\n",
    "\n",
    "\n",
    "def update_data(attrname, old, new):\n",
    "    # Get the current slider values\n",
    "    a = amplitude.value\n",
    "    b = offset.value\n",
    "    w = phase.value\n",
    "    k = freq.value\n",
    "\n",
    "    # Generate the new curve\n",
    "    x = np.linspace(0, 4*np.pi, N)\n",
    "    y = a*np.sin(k*x + w) + b\n",
    "\n",
    "    source.data = dict(x=x, y=y)\n",
    "    ### I thought I might need a show() here, but it doesn't make a difference if I add one\n",
    "    # show(layout)\n",
    "\n",
    "for w in [offset, amplitude, phase, freq]:\n",
    "    w.on_change('value', update_data)\n",
    "\n",
    "\n",
    "# Set up layouts and add to document\n",
    "inputs = column(text, \n",
    "                offset, \n",
    "                amplitude, \n",
    "                phase, \n",
    "                freq)\n",
    "\n",
    "layout = row(plot, inputs)\n",
    "\n",
    "\n",
    "\n",
    "def modify_doc(doc):\n",
    "    doc.add_root(row(layout, width=800))\n",
    "    # doc.title = \"Sliders\"\n",
    "    text.on_change('value', update_title)\n",
    "\n",
    "\n",
    "handler = FunctionHandler(modify_doc)\n",
    "app = Application(handler)\n",
    "show(app)"
   ]
  },
  {
   "cell_type": "markdown",
   "metadata": {},
   "source": [
    "### Real Dataset"
   ]
  },
  {
   "cell_type": "code",
   "execution_count": null,
   "metadata": {},
   "outputs": [],
   "source": [
    "flights = pd.read_csv('./data/complete_flights.csv', index_col=0)[['arr_delay', 'carrier', 'name']]\n",
    "flights.head()\n"
   ]
  },
  {
   "cell_type": "code",
   "execution_count": null,
   "metadata": {},
   "outputs": [],
   "source": [
    "# Available carrier list\n",
    "available_carriers = list(flights['name'].unique())\n",
    "\n",
    "# Sort the list in-place (alphabetical order)\n",
    "available_carriers.sort()\n",
    "\n",
    "print(available_carriers)\n",
    "\n"
   ]
  },
  {
   "cell_type": "code",
   "execution_count": null,
   "metadata": {},
   "outputs": [],
   "source": [
    "carrier_stats = flights.groupby('name')['arr_delay'].describe().reset_index().rename(columns={'name': 'airline', 'count': 'flights', '50%':'median'})\n",
    "carrier_stats"
   ]
  },
  {
   "cell_type": "code",
   "execution_count": null,
   "metadata": {},
   "outputs": [],
   "source": [
    "table_src = ColumnDataSource(carrier_stats)\n",
    "\n",
    "table_columns = [TableColumn(field='airline', title='Airline'),\n",
    "                 TableColumn(field='flights', title='Number of Flights'),\n",
    "                 TableColumn(field='min', title='Min Delay'),\n",
    "                 TableColumn(field='mean', title='Mean Delay'),\n",
    "                 TableColumn(field='median', title='Median Delay'),\n",
    "                 TableColumn(field='max', title='Max Delay')]\n",
    "\n",
    "carrier_table = DataTable(source=table_src, columns=table_columns, width=1000)\n",
    "\n",
    "show(carrier_table)"
   ]
  },
  {
   "cell_type": "code",
   "execution_count": null,
   "metadata": {},
   "outputs": [],
   "source": [
    "from bokeh.io import show, output_notebook, push_notebook\n",
    "from bokeh.plotting import figure\n",
    "\n",
    "from bokeh.models import CategoricalColorMapper, HoverTool, ColumnDataSource, Panel\n",
    "from bokeh.models.widgets import CheckboxGroup, Slider, RangeSlider, Tabs, TableColumn, DataTable\n",
    "\n",
    "from bokeh.layouts import column, row\n",
    "from bokeh.palettes import Category20_16\n",
    "\n",
    "from bokeh.application.handlers import FunctionHandler\n",
    "from bokeh.application import Application\n",
    "\n",
    "output_notebook()\n",
    "\n",
    "def modify_doc(doc):\n",
    "    \n",
    "    def make_dataset(carrier_list, range_start = -60, range_end = 120, bin_width = 5):\n",
    "\n",
    "        by_carrier = pd.DataFrame(columns=['proportion', 'left', 'right', \n",
    "                                           'f_proportion', 'f_interval',\n",
    "                                           'name', 'color'])\n",
    "        range_extent = range_end - range_start\n",
    "\n",
    "        # Iterate through all the carriers\n",
    "        for i, carrier_name in enumerate(carrier_list):\n",
    "\n",
    "            # Subset to the carrier\n",
    "            subset = flights[flights['name'] == carrier_name]\n",
    "\n",
    "            # Create a histogram with 5 minute bins\n",
    "            arr_hist, edges = np.histogram(subset['arr_delay'], \n",
    "                                           bins = int(range_extent / bin_width), \n",
    "                                           range = [range_start, range_end])\n",
    "\n",
    "            # Divide the counts by the total to get a proportion\n",
    "            arr_df = pd.DataFrame({'proportion': arr_hist / np.sum(arr_hist), 'left': edges[:-1], 'right': edges[1:] })\n",
    "\n",
    "            # Format the proportion \n",
    "            arr_df['f_proportion'] = ['%0.5f' % proportion for proportion in arr_df['proportion']]\n",
    "\n",
    "            # Format the interval\n",
    "            arr_df['f_interval'] = ['%d to %d minutes' % (left, right) for left, right in zip(arr_df['left'], arr_df['right'])]\n",
    "\n",
    "            # Assign the carrier for labels\n",
    "            arr_df['name'] = carrier_name\n",
    "\n",
    "            # Color each carrier differently\n",
    "            arr_df['color'] = Category20_16[i]\n",
    "\n",
    "            # Add to the overall dataframe\n",
    "            by_carrier = by_carrier.append(arr_df)\n",
    "\n",
    "        # Overall dataframe\n",
    "        by_carrier = by_carrier.sort_values(['name', 'left'])\n",
    "\n",
    "        return ColumnDataSource(by_carrier)\n",
    "    \n",
    "    def style(p):\n",
    "        # Title \n",
    "        p.title.align = 'center'\n",
    "        p.title.text_font_size = '20pt'\n",
    "        p.title.text_font = 'serif'\n",
    "\n",
    "        # Axis titles\n",
    "        p.xaxis.axis_label_text_font_size = '14pt'\n",
    "        p.xaxis.axis_label_text_font_style = 'bold'\n",
    "        p.yaxis.axis_label_text_font_size = '14pt'\n",
    "        p.yaxis.axis_label_text_font_style = 'bold'\n",
    "\n",
    "        # Tick labels\n",
    "        p.xaxis.major_label_text_font_size = '12pt'\n",
    "        p.yaxis.major_label_text_font_size = '12pt'\n",
    "\n",
    "        return p\n",
    "    \n",
    "    def make_plot(src):\n",
    "        # Blank plot with correct labels\n",
    "        p = figure(plot_width = 700, plot_height = 700, \n",
    "                  title = 'Histogram of Arrival Delays by Carrier',\n",
    "                  x_axis_label = 'Delay (min)', y_axis_label = 'Proportion')\n",
    "\n",
    "        # Quad glyphs to create a histogram\n",
    "        p.quad(source = src, bottom = 0, top = 'proportion', left = 'left', right = 'right',\n",
    "               color = 'color', fill_alpha = 0.7, hover_fill_color = 'color', legend_field = 'name',\n",
    "               hover_fill_alpha = 1.0, line_color = 'black')\n",
    "\n",
    "        # Hover tool with vline mode\n",
    "        hover = HoverTool(tooltips=[('Carrier', '@name'), \n",
    "                                    ('Delay', '@f_interval'),\n",
    "                                    ('Proportion', '@f_proportion')],\n",
    "                          mode='vline')\n",
    "\n",
    "        p.add_tools(hover)\n",
    "\n",
    "        # Styling\n",
    "        p = style(p)\n",
    "\n",
    "        return p\n",
    "    \n",
    "    def update(attr, old, new):\n",
    "        carriers_to_plot = [carrier_selection.labels[i] for i in carrier_selection.active]\n",
    "        \n",
    "        new_src = make_dataset(carriers_to_plot,\n",
    "                               range_start = range_select.value[0],\n",
    "                               range_end = range_select.value[1],\n",
    "                               bin_width = binwidth_select.value)\n",
    "\n",
    "        src.data.update(new_src.data)\n",
    "\n",
    "        \n",
    "    carrier_selection = CheckboxGroup(labels=available_carriers, active = [0, 1])\n",
    "    carrier_selection.on_change('active', update)\n",
    "    \n",
    "    binwidth_select = Slider(start = 1, end = 30, \n",
    "                         step = 1, value = 5,\n",
    "                         title = 'Delay Width (min)')\n",
    "    binwidth_select.on_change('value', update)\n",
    "    \n",
    "    range_select = RangeSlider(start = -60, end = 180, value = (-60, 120),\n",
    "                               step = 5, title = 'Delay Range (min)')\n",
    "    range_select.on_change('value', update)\n",
    "    \n",
    "    \n",
    "    \n",
    "    initial_carriers = [carrier_selection.labels[i] for i in carrier_selection.active]\n",
    "    \n",
    "    src = make_dataset(initial_carriers,\n",
    "                      range_start = range_select.value[0],\n",
    "                      range_end = range_select.value[1],\n",
    "                      bin_width = binwidth_select.value)\n",
    "    \n",
    "    p = make_plot(src)\n",
    "    \n",
    "    carrier_stats = flights.groupby('name')['arr_delay'].describe()\n",
    "    carrier_stats = carrier_stats.reset_index().rename(columns={'name': 'airline', \n",
    "                                                                'count': 'flights', \n",
    "                                                                '50%':'median'})\n",
    "    carrier_stats['mean'] = carrier_stats['mean'].round(2)\n",
    "    \n",
    "    carrier_src = ColumnDataSource(carrier_stats)\n",
    "    \n",
    "    table_columns = [TableColumn(field='airline', title='Airline'),\n",
    "                     TableColumn(field='flights', title='Number of Flights'),\n",
    "                     TableColumn(field='min', title='Min Delay'),\n",
    "                     TableColumn(field='mean', title='Mean Delay'),\n",
    "                     TableColumn(field='median', title='Median Delay'),\n",
    "                     TableColumn(field='max', title='Max Delay')]\n",
    "\n",
    "    carrier_table = DataTable(source=carrier_src, columns=table_columns, width=1000)\n",
    "    \n",
    "    # Put controls in a single element\n",
    "    controls = column(carrier_selection, binwidth_select, range_select)\n",
    "    \n",
    "    # Create a row layout\n",
    "    layout = column(row(controls, p), carrier_table)\n",
    "    \n",
    "    # Make a tab with the layout \n",
    "    tab = Panel(child=layout, title = 'Delay Histogram')\n",
    "    tabs = Tabs(tabs=[tab])\n",
    "    \n",
    "    doc.add_root(tabs)\n",
    "    \n",
    "# Set up an application\n",
    "handler = FunctionHandler(modify_doc)\n",
    "app = Application(handler)\n",
    "show(app)"
   ]
  }
 ],
 "metadata": {
  "colab": {
   "collapsed_sections": [],
   "name": "02_data_viz.ipynb",
   "provenance": []
  },
  "kernelspec": {
   "display_name": "Python 3 (ipykernel)",
   "language": "python",
   "name": "python3"
  },
  "language_info": {
   "codemirror_mode": {
    "name": "ipython",
    "version": 3
   },
   "file_extension": ".py",
   "mimetype": "text/x-python",
   "name": "python",
   "nbconvert_exporter": "python",
   "pygments_lexer": "ipython3",
   "version": "3.9.1"
  }
 },
 "nbformat": 4,
 "nbformat_minor": 1
}
